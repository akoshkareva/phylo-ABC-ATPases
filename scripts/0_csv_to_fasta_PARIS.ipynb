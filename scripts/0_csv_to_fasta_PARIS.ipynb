{
 "cells": [
  {
   "cell_type": "code",
   "execution_count": 1,
   "id": "e8f25c1c-1454-4150-8705-2f68e89e283c",
   "metadata": {},
   "outputs": [],
   "source": [
    "import csv\n",
    "import time\n",
    "from Bio import Entrez\n",
    "from Bio import SeqIO"
   ]
  },
  {
   "cell_type": "code",
   "execution_count": 2,
   "id": "beb15ccd-62f7-46c2-9d7d-8b48ab20473c",
   "metadata": {},
   "outputs": [],
   "source": [
    "csv_file_0 = '../data/raw/articles/ABC_ATPase_PARIS.csv'\n",
    "output_fasta_0 = '../data/processed/fasta_sequences/ABC_ATPase_PARIS.fasta'\n",
    "\n",
    "csv_file_1 = '../data/raw/articles/AAA_ATPase_15-21_family.csv'\n",
    "output_fasta_1 = '../data/processed/fasta_sequences/AAA_ATPase_15-21_family.fasta'"
   ]
  },
  {
   "cell_type": "code",
   "execution_count": 3,
   "id": "5d01d340-af16-40da-ba88-050de70a724b",
   "metadata": {},
   "outputs": [],
   "source": [
    "Entrez.email = \"alyona.koshkareva@gmail.com\"\n",
    "BATCH_SIZE = 100 \n",
    "DELAY_BETWEEN_BATCHES = 5  \n",
    "DELAY_BETWEEN_SEQUENCES = 0.1 \n",
    "\n",
    "def fetch_protein_sequences(csv_file, output_fasta):\n",
    "    # Step 1: Read and Clear ID\n",
    "    with open(csv_file, 'r') as file:\n",
    "        reader = csv.reader(file)\n",
    "        next(reader)\n",
    "        raw_ids = [row[2].strip() for row in reader if len(row) > 2]\n",
    "    \n",
    "    # ID filtering (ignore only lines starting with #)\n",
    "    protein_ids = list({\n",
    "        pid for pid in raw_ids \n",
    "        if not pid.startswith('#')\n",
    "    })\n",
    "\n",
    "    print(f\"Found {len(protein_ids)} ID. Examples: {protein_ids[:5]}...\")\n",
    "\n",
    "    # Step 2: Download from the database\n",
    "    records = []\n",
    "    for i in range(0, len(protein_ids), BATCH_SIZE):\n",
    "        batch = protein_ids[i:i + BATCH_SIZE]\n",
    "        print(f\"Loading the batch {i//BATCH_SIZE + 1}\")\n",
    "\n",
    "        for protein_id in batch:\n",
    "            try:\n",
    "                handle = Entrez.efetch(\n",
    "                    db=\"protein\",\n",
    "                    id=protein_id, \n",
    "                    rettype=\"fasta\",\n",
    "                    retmode=\"text\"\n",
    "                )\n",
    "                record = next(SeqIO.parse(handle, \"fasta\"))\n",
    "                records.append(record)\n",
    "                handle.close()\n",
    "                time.sleep(DELAY_BETWEEN_SEQUENCES)\n",
    "            \n",
    "            except Exception as e:\n",
    "                print(f\"Error loading {protein_id}: {str(e)}\")\n",
    "                continue\n",
    "        \n",
    "        time.sleep(DELAY_BETWEEN_BATCHES)\n",
    "\n",
    "    # Step 3: Save the results\n",
    "    if records:\n",
    "        with open(output_fasta, 'w') as output:\n",
    "            SeqIO.write(records, output, \"fasta\")\n",
    "        print(f\"Total saved {len(records)} protein sequences.\")\n",
    "    else:\n",
    "        print(\"Couldn't load any sequences.\")\n"
   ]
  },
  {
   "cell_type": "code",
   "execution_count": 4,
   "id": "89998f40-e3c7-48dc-9c60-3a7911e8d6aa",
   "metadata": {},
   "outputs": [
    {
     "name": "stdout",
     "output_type": "stream",
     "text": [
      "Found 456 ID. Examples: ['WP_143237877.1', 'WP_124340352.1', 'WP_232077070.1', 'WP_007656013.1', 'WP_084545522.1']...\n",
      "Loading the batch 1\n",
      "Loading the batch 2\n",
      "Loading the batch 3\n",
      "Loading the batch 4\n",
      "Loading the batch 5\n",
      "Total saved 456 protein sequences.\n",
      "Found 262 ID. Examples: ['WP_181825233.1', 'WP_088720954.1', 'WP_000908413.1', 'WP_193827114.1', 'WP_114247160.1']...\n",
      "Loading the batch 1\n",
      "Loading the batch 2\n",
      "Error loading 2562294790: HTTP Error 400: Bad Request\n",
      "Loading the batch 3\n",
      "Total saved 261 protein sequences.\n"
     ]
    }
   ],
   "source": [
    "fetch_protein_sequences(csv_file_0, output_fasta_0)\n",
    "\n",
    "fetch_protein_sequences(csv_file_1, output_fasta_1)\n"
   ]
  }
 ],
 "metadata": {
  "kernelspec": {
   "display_name": "Python 3 (ipykernel)",
   "language": "python",
   "name": "python3"
  },
  "language_info": {
   "codemirror_mode": {
    "name": "ipython",
    "version": 3
   },
   "file_extension": ".py",
   "mimetype": "text/x-python",
   "name": "python",
   "nbconvert_exporter": "python",
   "pygments_lexer": "ipython3",
   "version": "3.12.9"
  }
 },
 "nbformat": 4,
 "nbformat_minor": 5
}
