{
 "cells": [
  {
   "cell_type": "code",
   "execution_count": 1,
   "id": "e8f25c1c-1454-4150-8705-2f68e89e283c",
   "metadata": {},
   "outputs": [],
   "source": [
    "import os\n",
    "import csv"
   ]
  },
  {
   "cell_type": "code",
   "execution_count": 2,
   "id": "beb15ccd-62f7-46c2-9d7d-8b48ab20473c",
   "metadata": {},
   "outputs": [],
   "source": [
    "input_directory = '../data/raw/articles/'\n",
    "output_directory = '../data/processed/fasta_sequences/'"
   ]
  },
  {
   "cell_type": "code",
   "execution_count": 3,
   "id": "5d01d340-af16-40da-ba88-050de70a724b",
   "metadata": {},
   "outputs": [],
   "source": [
    "def process_csv_to_fasta(csv_path, fasta_path):\n",
    "    with open(csv_path, 'r') as csv_file, open(fasta_path, 'w') as fasta_file:\n",
    "        reader = csv.reader(csv_file)\n",
    "        next(reader)\n",
    "        for row in reader:\n",
    "            header = row[2].strip()\n",
    "            sequence = row[3].strip()\n",
    "            fasta_file.write(f\">{header}\\n{sequence}\\n\")\n",
    "\n",
    "def process_directory(input_directory):\n",
    "    for filename in os.listdir(input_directory):\n",
    "        if filename.endswith('.csv'):\n",
    "            csv_path = os.path.join(input_directory, filename)\n",
    "            fasta_filename = os.path.splitext(filename)[0] + '.fasta'\n",
    "            fasta_path = os.path.join(output_directory, fasta_filename)\n",
    "            process_csv_to_fasta(csv_path, fasta_path)\n",
    "            print(f\"Processed {filename} -> {fasta_filename}\")"
   ]
  },
  {
   "cell_type": "code",
   "execution_count": 4,
   "id": "89998f40-e3c7-48dc-9c60-3a7911e8d6aa",
   "metadata": {},
   "outputs": [
    {
     "name": "stdout",
     "output_type": "stream",
     "text": [
      "Processed AAA_ATPase_15-21_family.csv -> AAA_ATPase_15-21_family.fasta\n",
      "Processed ABC_ATPase_PARIS.csv -> ABC_ATPase_PARIS.fasta\n"
     ]
    }
   ],
   "source": [
    "process_directory(input_directory)"
   ]
  }
 ],
 "metadata": {
  "kernelspec": {
   "display_name": "Python 3 (ipykernel)",
   "language": "python",
   "name": "python3"
  },
  "language_info": {
   "codemirror_mode": {
    "name": "ipython",
    "version": 3
   },
   "file_extension": ".py",
   "mimetype": "text/x-python",
   "name": "python",
   "nbconvert_exporter": "python",
   "pygments_lexer": "ipython3",
   "version": "3.12.9"
  }
 },
 "nbformat": 4,
 "nbformat_minor": 5
}
