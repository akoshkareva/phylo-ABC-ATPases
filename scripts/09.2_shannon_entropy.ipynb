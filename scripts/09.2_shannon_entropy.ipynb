{
 "cells": [
  {
   "cell_type": "markdown",
   "id": "303c43b7-d3c9-46bd-bd38-3cf39fde652a",
   "metadata": {},
   "source": [
    "# Вычисление нормированной энтропии Шеннона по столбцам MSA\n",
    "\n",
    "В этом ноутбуке:\n",
    "1. Считаем множественное выравнивание (MSA) из файла `../data/processed/06_seq_for_alphafold/msa_all_clades_representatives.fasta`.\n",
    "2. Для каждого столбца (позиции выравнивания) вычислим энтропию Шеннона, игнорируя гэпы ('-') и неизвестные ('X').\n",
    "3. Нормируем энтропию, деля её на log2(20) (максимальная энтропия для 20 аминокислот).\n",
    "4. Для каждой из 39 последовательностей формируем TSV-файл:\n",
    "   `Position_in_protein\\tNormalized_Entropy`, где `Position_in_protein` — счётчик по аминокислотам \n",
    "   (без учёта гэпов в MSA), а `Normalized_Entropy` — энтропия позиции (колонки) MSA, нормированная в [0,1]."
   ]
  },
  {
   "cell_type": "code",
   "execution_count": 1,
   "id": "f904d0d8-7cbe-4ce9-9b56-bc76edfc46bf",
   "metadata": {},
   "outputs": [],
   "source": [
    "import math\n",
    "from pathlib import Path\n",
    "from Bio import AlignIO"
   ]
  },
  {
   "cell_type": "code",
   "execution_count": 2,
   "id": "74874ab2-f2ef-444b-ba35-e857029e1b60",
   "metadata": {},
   "outputs": [],
   "source": [
    "msa_path = Path(\"../data/processed/06_seq_for_alphafold/msa_all_clades_representatives.fasta\")\n",
    "output_dir = Path(\"../data/processed/07_shannon_entropy/\")\n",
    "output_dir.mkdir(parents=True, exist_ok=True)"
   ]
  },
  {
   "cell_type": "code",
   "execution_count": 3,
   "id": "ad4d1f4b-ccf8-418e-8ae6-1c37bb047e95",
   "metadata": {},
   "outputs": [
    {
     "name": "stdout",
     "output_type": "stream",
     "text": [
      "Прочитано 39 последовательностей, длина выравнивания = 2524\n"
     ]
    }
   ],
   "source": [
    "# Читаем MSA (формат FASTA)\n",
    "alignment = AlignIO.read(str(msa_path), \"fasta\")\n",
    "n_sequences = len(alignment)\n",
    "aln_length = alignment.get_alignment_length()\n",
    "print(f\"Прочитано {n_sequences} последовательностей, длина выравнивания = {aln_length}\")\n"
   ]
  },
  {
   "cell_type": "code",
   "execution_count": 4,
   "id": "99ea8cba-fd09-4823-818c-09f21c031642",
   "metadata": {},
   "outputs": [],
   "source": [
    "def shannon_entropy(column):\n",
    "    \"\"\"\n",
    "    column: строка символов длины n_sequences (по одной позиции выравнивания)\n",
    "    Возвращает энтропию Шеннона, игнорируя символы '-' и 'X'.\n",
    "    \"\"\"\n",
    "    freqs = {}\n",
    "    total = 0\n",
    "    for aa in column:\n",
    "        if aa == '-' or aa.upper() == 'X':\n",
    "            continue\n",
    "        aa = aa.upper()\n",
    "        freqs[aa] = freqs.get(aa, 0) + 1\n",
    "        total += 1\n",
    "\n",
    "    if total == 0:\n",
    "        return 0.0  # если во всех строках gap\n",
    "\n",
    "    entropy = 0.0\n",
    "    for count in freqs.values():\n",
    "        p = count / total\n",
    "        entropy -= p * math.log2(p)\n",
    "    return entropy"
   ]
  },
  {
   "cell_type": "code",
   "execution_count": 5,
   "id": "ba9bb836-154b-423a-a42e-3b230b8b4e23",
   "metadata": {},
   "outputs": [
    {
     "name": "stdout",
     "output_type": "stream",
     "text": [
      "Первые 10 ненормированных энтропий: [0.0, 0.0, 0.0, 0.0, 0.0, 0.0, 0.0, 0.0, 0.0, 0.0]\n",
      "Первые 10 нормированных энтропий: [0.0, 0.0, 0.0, 0.0, 0.0, 0.0, 0.0, 0.0, 0.0, 0.0]\n"
     ]
    }
   ],
   "source": [
    "max_entropy = math.log2(20)  # максимальная энтропия при 20 аминокислотах ≈ 4.322\n",
    "entropies = [0.0] * aln_length\n",
    "normalized_entropies = [0.0] * aln_length\n",
    "\n",
    "for i in range(aln_length):\n",
    "    column = alignment[:, i]\n",
    "    h = shannon_entropy(column)\n",
    "    entropies[i] = h\n",
    "    normalized_entropies[i] = h / max_entropy\n",
    "\n",
    "print(\"Первые 10 ненормированных энтропий:\", entropies[:10])\n",
    "print(\"Первые 10 нормированных энтропий:\", normalized_entropies[:10])"
   ]
  },
  {
   "cell_type": "code",
   "execution_count": 6,
   "id": "3f94ebcb-cbad-40ce-b3cd-81ef1677152a",
   "metadata": {},
   "outputs": [
    {
     "name": "stdout",
     "output_type": "stream",
     "text": [
      "  → Сохранён файл conservation_normalized_WP_249755640_1.tsv (689 позиций)\n",
      "  → Сохранён файл conservation_normalized_WP_159144195_1.tsv (353 позиций)\n",
      "  → Сохранён файл conservation_normalized_WP_130970024_1.tsv (380 позиций)\n",
      "  → Сохранён файл conservation_normalized_CP003678_1_2534.tsv (412 позиций)\n",
      "  → Сохранён файл conservation_normalized_OZ007026_1_1757.tsv (363 позиций)\n",
      "  → Сохранён файл conservation_normalized_NZ_CP120635_1_1445.tsv (209 позиций)\n",
      "  → Сохранён файл conservation_normalized_NZ_LT634361_1_332.tsv (691 позиций)\n",
      "  → Сохранён файл conservation_normalized_NZ_CP151867_1_1971.tsv (483 позиций)\n",
      "  → Сохранён файл conservation_normalized_CP034683_1_1272.tsv (545 позиций)\n",
      "  → Сохранён файл conservation_normalized_CP045340_1_216.tsv (507 позиций)\n",
      "  → Сохранён файл conservation_normalized_OY282455_1_1419.tsv (429 позиций)\n",
      "  → Сохранён файл conservation_normalized_NZ_CP069280_1_2106.tsv (317 позиций)\n",
      "  → Сохранён файл conservation_normalized_NZ_CP147916_1_1085.tsv (535 позиций)\n",
      "  → Сохранён файл conservation_normalized_NZ_CP149796_1_819.tsv (425 позиций)\n",
      "  → Сохранён файл conservation_normalized_CP064062_1_128.tsv (668 позиций)\n",
      "  → Сохранён файл conservation_normalized_OY782677_1_3762.tsv (679 позиций)\n",
      "  → Сохранён файл conservation_normalized_HEC01A_ECOR46.tsv (373 позиций)\n",
      "  → Сохранён файл conservation_normalized_MCE2749787_1.tsv (384 позиций)\n",
      "  → Сохранён файл conservation_normalized_AP024322_1_2820.tsv (443 позиций)\n",
      "  → Сохранён файл conservation_normalized_CP044285_1_1163.tsv (359 позиций)\n",
      "  → Сохранён файл conservation_normalized_OW818675_1_1218.tsv (527 позиций)\n",
      "  → Сохранён файл conservation_normalized_WP_218552723_1.tsv (390 позиций)\n",
      "  → Сохранён файл conservation_normalized_MBM7518256_1.tsv (454 позиций)\n",
      "  → Сохранён файл conservation_normalized_MEN6460824_1.tsv (492 позиций)\n",
      "  → Сохранён файл conservation_normalized_WP_144121057_1.tsv (1460 позиций)\n",
      "  → Сохранён файл conservation_normalized_MDT7592411_1.tsv (211 позиций)\n",
      "  → Сохранён файл conservation_normalized_MCY4307946_1.tsv (741 позиций)\n",
      "  → Сохранён файл conservation_normalized_WP_194903108_1.tsv (649 позиций)\n",
      "  → Сохранён файл conservation_normalized_PIP96611_1.tsv (572 позиций)\n",
      "  → Сохранён файл conservation_normalized_WP_392992991_1.tsv (577 позиций)\n",
      "  → Сохранён файл conservation_normalized_CP015227_1_2838.tsv (560 позиций)\n",
      "  → Сохранён файл conservation_normalized_CP147770_1_4035.tsv (330 позиций)\n",
      "  → Сохранён файл conservation_normalized_NZ_AP026375_1_2921.tsv (400 позиций)\n",
      "  → Сохранён файл conservation_normalized_WP_353571904_1.tsv (379 позиций)\n",
      "  → Сохранён файл conservation_normalized_MBE6381532_1.tsv (474 позиций)\n",
      "  → Сохранён файл conservation_normalized_OY764194_1_539.tsv (890 позиций)\n",
      "  → Сохранён файл conservation_normalized_OY761470_1_1623.tsv (937 позиций)\n",
      "  → Сохранён файл conservation_normalized_NZ_CP162615_1_1156.tsv (911 позиций)\n",
      "  → Сохранён файл conservation_normalized_NZ_CP065032_1_62.tsv (351 позиций)\n"
     ]
    }
   ],
   "source": [
    "for record in alignment:\n",
    "    seq_id = record.id\n",
    "    seq = str(record.seq)\n",
    "    # Создаём \"безопасное\" имя файла\n",
    "    safe_id = \"\".join(c if (c.isalnum() or c in \"-_\") else \"_\" for c in seq_id)\n",
    "    out_path = output_dir / f\"conservation_normalized_{safe_id}.tsv\"\n",
    "\n",
    "    with open(out_path, \"w\") as fout:\n",
    "        fout.write(\"Position_in_protein\\tNormalized_Entropy\\n\")\n",
    "        pos_counter = 0\n",
    "        for i, aa in enumerate(seq):\n",
    "            if aa == '-' or aa.upper() == 'X':\n",
    "                continue\n",
    "            pos_counter += 1\n",
    "            fout.write(f\"{pos_counter}\\t{normalized_entropies[i]:.5f}\\n\")\n",
    "    print(f\"  → Сохранён файл {out_path.name} ({pos_counter} позиций)\")"
   ]
  }
 ],
 "metadata": {
  "kernelspec": {
   "display_name": "Python 3 (ipykernel)",
   "language": "python",
   "name": "python3"
  },
  "language_info": {
   "codemirror_mode": {
    "name": "ipython",
    "version": 3
   },
   "file_extension": ".py",
   "mimetype": "text/x-python",
   "name": "python",
   "nbconvert_exporter": "python",
   "pygments_lexer": "ipython3",
   "version": "3.12.3"
  }
 },
 "nbformat": 4,
 "nbformat_minor": 5
}
