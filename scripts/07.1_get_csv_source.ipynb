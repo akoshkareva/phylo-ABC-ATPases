{
 "cells": [
  {
   "cell_type": "code",
   "execution_count": 1,
   "id": "fe7f11e0-a4a8-4aad-acee-aca8ba7e3ceb",
   "metadata": {},
   "outputs": [],
   "source": [
    "import os\n",
    "import pandas as pd\n",
    "import numpy as np\n",
    "from collections import defaultdict"
   ]
  },
  {
   "cell_type": "code",
   "execution_count": 2,
   "id": "87ef39b2-8fc2-4ee8-835f-392ff8611bad",
   "metadata": {},
   "outputs": [],
   "source": [
    "path_before_clu = '../data/processed/01_fasta_seq'\n",
    "\n",
    "path_fast_tree = '../data/processed/05_seq_for_tree/seq_for_tree_v7.fasta'"
   ]
  },
  {
   "cell_type": "markdown",
   "id": "11626d6d-2f26-47c9-804d-02536bc37398",
   "metadata": {},
   "source": [
    " Для каждой последовательности (ID), указанной в файле `path_fast_tree`, определить, в каких файлах из папки `../data/processed/01_fasta_seq` (с расширением .fasta или .faa) она содержится, и сохранить это соответствие в CSV-файл."
   ]
  },
  {
   "cell_type": "markdown",
   "id": "4ffe6928-43c8-4476-99b3-2fc45e38d566",
   "metadata": {},
   "source": [
    "# declaring functions"
   ]
  },
  {
   "cell_type": "code",
   "execution_count": 3,
   "id": "79d1be08-b51a-4379-8a33-bbe84ffbb9c2",
   "metadata": {},
   "outputs": [],
   "source": [
    "def get_ids_from_file(file_path):\n",
    "    \"\"\"Извлекает ID последовательностей из FASTA файла.\"\"\"\n",
    "    ids = []\n",
    "    with open(file_path, 'r') as f:\n",
    "        for line in f:\n",
    "            if line.startswith('>'):\n",
    "                seq_id = line[1:].split()[0].strip()\n",
    "                ids.append(seq_id)\n",
    "    return ids\n"
   ]
  },
  {
   "cell_type": "code",
   "execution_count": 4,
   "id": "51d4dd81-2974-4f2e-8c43-5a2e3813854d",
   "metadata": {},
   "outputs": [],
   "source": [
    "def parse_sources_for_ids(target_ids, path):\n",
    "    \"\"\"Ищет источники (файлы) для заданных ID в указанных папках.\"\"\"\n",
    "    # Словарь для хранения найденных источников\n",
    "    id_sources = defaultdict(set)\n",
    "    \n",
    "    # Поиск в первой папке (path0)\n",
    "    for filename in os.listdir(path):\n",
    "        if filename.endswith('.faa') or filename.endswith('.fasta'):\n",
    "            file_path = os.path.join(path, filename)\n",
    "            file_ids = set(get_ids_from_file(file_path))\n",
    "            # Пересечение ID файла с целевыми ID\n",
    "            for id_ in file_ids & target_ids:\n",
    "                id_sources[id_].add(filename)\n",
    "    \n",
    "    return id_sources\n"
   ]
  },
  {
   "cell_type": "code",
   "execution_count": 5,
   "id": "88094f66-fa22-48b8-ad1a-7f1bcaf8eaf9",
   "metadata": {},
   "outputs": [],
   "source": [
    "def custom_rename(source_str):\n",
    "    if not isinstance(source_str, str) or not source_str:\n",
    "        return source_str\n",
    "\n",
    "    # Шаг 1: Преобразуем 'hit_table_' → '_homologues'\n",
    "    parts = []\n",
    "    for part in source_str.split(';'):\n",
    "        if part.startswith('hit_table_') and part.endswith('_all.fasta'):\n",
    "            clean_name = part.replace('hit_table_', '').replace('_all.fasta', '')\n",
    "            parts.append(f'{clean_name}_homologues')\n",
    "        else:\n",
    "            parts.append(part.replace('.fasta', '').replace('.faa', ''))  # убираем расширения\n",
    "\n",
    "    # Шаг 2: Дополнительные переименования\n",
    "    new_parts = []\n",
    "    for part in parts:\n",
    "        if part in ['old_vibrio_homologues', 'old_homologues']:\n",
    "            new_parts.append('Old_homologues')\n",
    "        elif part in ['HEC-02', 'HEC-03', 'HEC-04']:\n",
    "            new_parts.append('HECs')\n",
    "        elif part in ['Ea59_Lambda_homologues', 'PtuA_Slividans_homologues']:\n",
    "            new_parts.append('Ea59&PtuA_homologues')\n",
    "        elif 'PtuA' in part:\n",
    "            new_parts.append('Ea59&PtuA')\n",
    "        elif 'JetC_ECOR67_from_1338_to_1445_homologues' in part:\n",
    "            new_parts.append('JetC_ECOR67_homologues')\n",
    "        elif 'ABC_ATPase_PARIS' in part:\n",
    "            new_parts.append('PARIS')\n",
    "        else:\n",
    "            new_parts.append(part)\n",
    "\n",
    "    # Удаляем дубликаты, сортируем и возвращаем\n",
    "    return ';'.join(sorted(set(new_parts)))\n"
   ]
  },
  {
   "cell_type": "markdown",
   "id": "f7cd95d3-be78-44a4-bbbf-2f9c35a2ef3c",
   "metadata": {},
   "source": [
    "# file processing"
   ]
  },
  {
   "cell_type": "code",
   "execution_count": 6,
   "id": "706cbb95-f2fd-4f7f-b1b5-5a9321de83c7",
   "metadata": {},
   "outputs": [],
   "source": [
    "# Получаем целевые ID из файла path_fast_tree\n",
    "target_ids = set(get_ids_from_file(path_fast_tree))\n"
   ]
  },
  {
   "cell_type": "code",
   "execution_count": 7,
   "id": "0d4cd7ec-0d4a-4fba-8366-b147d0369256",
   "metadata": {},
   "outputs": [],
   "source": [
    "# Собираем источники для целевых ID\n",
    "sources_dict = parse_sources_for_ids(target_ids, path_before_clu)\n"
   ]
  },
  {
   "cell_type": "code",
   "execution_count": 8,
   "id": "97f4d8de-1fa8-4418-908b-5d68e2a595da",
   "metadata": {},
   "outputs": [],
   "source": [
    "# Создаем DataFrame\n",
    "df_data = []\n",
    "for id_ in target_ids:\n",
    "    sources = sources_dict.get(id_, set())\n",
    "    df_data.append({\n",
    "        'ID': id_,\n",
    "        'sources': ';'.join(sorted(sources)) if sources else ''\n",
    "    })\n",
    "\n",
    "source_ID = pd.DataFrame(df_data)\n"
   ]
  },
  {
   "cell_type": "code",
   "execution_count": 9,
   "id": "0059c858-d7f7-4614-b7a0-c44ab2076b70",
   "metadata": {},
   "outputs": [
    {
     "data": {
      "text/html": [
       "<div>\n",
       "<style scoped>\n",
       "    .dataframe tbody tr th:only-of-type {\n",
       "        vertical-align: middle;\n",
       "    }\n",
       "\n",
       "    .dataframe tbody tr th {\n",
       "        vertical-align: top;\n",
       "    }\n",
       "\n",
       "    .dataframe thead th {\n",
       "        text-align: right;\n",
       "    }\n",
       "</style>\n",
       "<table border=\"1\" class=\"dataframe\">\n",
       "  <thead>\n",
       "    <tr style=\"text-align: right;\">\n",
       "      <th></th>\n",
       "      <th>ID</th>\n",
       "      <th>sources</th>\n",
       "    </tr>\n",
       "  </thead>\n",
       "  <tbody>\n",
       "    <tr>\n",
       "      <th>0</th>\n",
       "      <td>WP_348782179.1</td>\n",
       "      <td>hit_table_NsnB_ECOR37_all.fasta</td>\n",
       "    </tr>\n",
       "    <tr>\n",
       "      <th>1</th>\n",
       "      <td>WMJ72022.1</td>\n",
       "      <td>hit_table_NsnB_ECOR37_all.fasta</td>\n",
       "    </tr>\n",
       "    <tr>\n",
       "      <th>2</th>\n",
       "      <td>WP_354037498.1</td>\n",
       "      <td>hit_table_NsnB_ECOR37_all.fasta</td>\n",
       "    </tr>\n",
       "    <tr>\n",
       "      <th>3</th>\n",
       "      <td>NZ_CP090673.1_1627</td>\n",
       "      <td>PtuA.faa</td>\n",
       "    </tr>\n",
       "    <tr>\n",
       "      <th>4</th>\n",
       "      <td>NZ_CP091285.1_2191</td>\n",
       "      <td>GajA.faa</td>\n",
       "    </tr>\n",
       "    <tr>\n",
       "      <th>...</th>\n",
       "      <td>...</td>\n",
       "      <td>...</td>\n",
       "    </tr>\n",
       "    <tr>\n",
       "      <th>8440</th>\n",
       "      <td>HEV3317244.1</td>\n",
       "      <td>hit_table_NsnB_ECOR37_all.fasta</td>\n",
       "    </tr>\n",
       "    <tr>\n",
       "      <th>8441</th>\n",
       "      <td>CP051234.1_1523</td>\n",
       "      <td>GajA.faa</td>\n",
       "    </tr>\n",
       "    <tr>\n",
       "      <th>8442</th>\n",
       "      <td>OY759782.1_2977</td>\n",
       "      <td>PtuA.faa</td>\n",
       "    </tr>\n",
       "    <tr>\n",
       "      <th>8443</th>\n",
       "      <td>OQW90533.1</td>\n",
       "      <td>hit_table_HEC-01A_ECOR46_all.fasta</td>\n",
       "    </tr>\n",
       "    <tr>\n",
       "      <th>8444</th>\n",
       "      <td>CP012670.1_6241</td>\n",
       "      <td>PtuA.faa</td>\n",
       "    </tr>\n",
       "  </tbody>\n",
       "</table>\n",
       "<p>8445 rows × 2 columns</p>\n",
       "</div>"
      ],
      "text/plain": [
       "                      ID                             sources\n",
       "0         WP_348782179.1     hit_table_NsnB_ECOR37_all.fasta\n",
       "1             WMJ72022.1     hit_table_NsnB_ECOR37_all.fasta\n",
       "2         WP_354037498.1     hit_table_NsnB_ECOR37_all.fasta\n",
       "3     NZ_CP090673.1_1627                            PtuA.faa\n",
       "4     NZ_CP091285.1_2191                            GajA.faa\n",
       "...                  ...                                 ...\n",
       "8440        HEV3317244.1     hit_table_NsnB_ECOR37_all.fasta\n",
       "8441     CP051234.1_1523                            GajA.faa\n",
       "8442     OY759782.1_2977                            PtuA.faa\n",
       "8443          OQW90533.1  hit_table_HEC-01A_ECOR46_all.fasta\n",
       "8444     CP012670.1_6241                            PtuA.faa\n",
       "\n",
       "[8445 rows x 2 columns]"
      ]
     },
     "execution_count": 9,
     "metadata": {},
     "output_type": "execute_result"
    }
   ],
   "source": [
    "source_ID"
   ]
  },
  {
   "cell_type": "code",
   "execution_count": 10,
   "id": "8330c7c5-fb36-4a6e-98b2-9aa3c750b2b2",
   "metadata": {},
   "outputs": [
    {
     "data": {
      "text/plain": [
       "['',\n",
       " 'AAA_ATPases.fasta',\n",
       " 'ABC_ATPase_PARIS.fasta',\n",
       " 'AbiL.faa',\n",
       " 'GajA.faa',\n",
       " 'GajA.faa;PtuA.faa',\n",
       " 'HEC-02.faa',\n",
       " 'HEC-03.faa',\n",
       " 'HEC-04.faa',\n",
       " 'JetC_ECOR67_from_1338_to_1445_all.fasta',\n",
       " 'LmuB.faa',\n",
       " 'PDC-M01A.faa',\n",
       " 'PDC-M01A.faa;PtuA.faa',\n",
       " 'Ppl.faa',\n",
       " 'PrrC.faa',\n",
       " 'PtuA.faa',\n",
       " 'hit_table_Ea59_Lambda_all.fasta',\n",
       " 'hit_table_Ea59_Lambda_all.fasta;hit_table_PtuA_Slividans_all.fasta',\n",
       " 'hit_table_HEC-01A_ECOR46_all.fasta',\n",
       " 'hit_table_IbfA_all.fasta',\n",
       " 'hit_table_NsnB_ECOR37_all.fasta',\n",
       " 'hit_table_PD-T4_4A_ECOR58_all.fasta',\n",
       " 'hit_table_PtuA_Slividans_all.fasta',\n",
       " 'hit_table_old_all.fasta',\n",
       " 'hit_table_old_vibrio_all.fasta']"
      ]
     },
     "execution_count": 10,
     "metadata": {},
     "output_type": "execute_result"
    }
   ],
   "source": [
    "sorted(source_ID['sources'].unique())"
   ]
  },
  {
   "cell_type": "code",
   "execution_count": 11,
   "id": "276bd76d-0eb0-4f98-aa4a-8a9fd7508260",
   "metadata": {},
   "outputs": [],
   "source": [
    "source_ID['sources'] = source_ID['sources'].apply(custom_rename)\n"
   ]
  },
  {
   "cell_type": "code",
   "execution_count": 12,
   "id": "2d1208fe-fb43-423d-b1ba-b3ed6d93cf5f",
   "metadata": {},
   "outputs": [
    {
     "data": {
      "text/plain": [
       "['',\n",
       " 'AAA_ATPases',\n",
       " 'AbiL',\n",
       " 'Ea59&PtuA',\n",
       " 'Ea59&PtuA;GajA',\n",
       " 'Ea59&PtuA;PDC-M01A',\n",
       " 'Ea59&PtuA_homologues',\n",
       " 'GajA',\n",
       " 'HEC-01A_ECOR46_homologues',\n",
       " 'HECs',\n",
       " 'IbfA_homologues',\n",
       " 'JetC_ECOR67_from_1338_to_1445_all',\n",
       " 'LmuB',\n",
       " 'NsnB_ECOR37_homologues',\n",
       " 'Old_homologues',\n",
       " 'PARIS',\n",
       " 'PD-T4_4A_ECOR58_homologues',\n",
       " 'PDC-M01A',\n",
       " 'Ppl',\n",
       " 'PrrC']"
      ]
     },
     "execution_count": 12,
     "metadata": {},
     "output_type": "execute_result"
    }
   ],
   "source": [
    "sorted(source_ID['sources'].unique())"
   ]
  },
  {
   "cell_type": "code",
   "execution_count": 13,
   "id": "a9797116-805c-47fe-8b08-126a670cda1b",
   "metadata": {},
   "outputs": [
    {
     "name": "stdout",
     "output_type": "stream",
     "text": [
      "Найдены ID с отсутствующими источниками:\n",
      "['HEC-01A_ECOR46', 'NsnB_ECOR37']\n"
     ]
    }
   ],
   "source": [
    "# Проверяем NA/пустые значения\n",
    "empty_sources = source_ID[source_ID['sources'].isin(['', None, np.nan])]\n",
    "if not empty_sources.empty:\n",
    "    print(\"Найдены ID с отсутствующими источниками:\")\n",
    "    print(empty_sources['ID'].tolist())\n",
    "else:\n",
    "    print(\"Пропущенных источников не обнаружено\")\n"
   ]
  },
  {
   "cell_type": "code",
   "execution_count": 14,
   "id": "5803d8d0-d669-4485-b842-a109bac4559c",
   "metadata": {},
   "outputs": [],
   "source": [
    "# Ручные обновления для ID с NA\n",
    "source_ID.loc[source_ID['ID'] == 'NsnB_ECOR37', 'sources'] = 'NsnB_ECOR37_homologues'\n",
    "source_ID.loc[source_ID['ID'] == 'HEC-01A_ECOR46', 'sources'] = 'HEC-01A_ECOR46_homologues'\n"
   ]
  },
  {
   "cell_type": "code",
   "execution_count": 15,
   "id": "88f08146-93a4-4dde-80dc-6f074017115c",
   "metadata": {},
   "outputs": [
    {
     "name": "stdout",
     "output_type": "stream",
     "text": [
      "Пропущенных источников не обнаружено\n"
     ]
    }
   ],
   "source": [
    "# Проверяем NA/пустые значения\n",
    "empty_sources = source_ID[source_ID['sources'].isin(['', None, np.nan])]\n",
    "if not empty_sources.empty:\n",
    "    print(\"Найдены ID с отсутствующими источниками:\")\n",
    "    print(empty_sources['ID'].tolist())\n",
    "else:\n",
    "    print(\"Пропущенных источников не обнаружено\")\n"
   ]
  },
  {
   "cell_type": "code",
   "execution_count": 16,
   "id": "a5ee88bf-61b5-4228-9d7f-b5f668252bf7",
   "metadata": {},
   "outputs": [],
   "source": [
    "# Сохраняем\n",
    "source_ID.to_csv(\"../results/result_sources_ID.csv\", index=False)\n"
   ]
  }
 ],
 "metadata": {
  "kernelspec": {
   "display_name": "Python 3 (ipykernel)",
   "language": "python",
   "name": "python3"
  },
  "language_info": {
   "codemirror_mode": {
    "name": "ipython",
    "version": 3
   },
   "file_extension": ".py",
   "mimetype": "text/x-python",
   "name": "python",
   "nbconvert_exporter": "python",
   "pygments_lexer": "ipython3",
   "version": "3.12.3"
  }
 },
 "nbformat": 4,
 "nbformat_minor": 5
}
